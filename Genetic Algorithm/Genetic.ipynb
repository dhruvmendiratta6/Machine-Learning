{
 "cells": [
  {
   "cell_type": "code",
   "execution_count": 60,
   "metadata": {},
   "outputs": [],
   "source": [
    "import numpy as np\n",
    "import matplotlib.pyplot as plt\n",
    "import random"
   ]
  },
  {
   "cell_type": "code",
   "execution_count": 2,
   "metadata": {},
   "outputs": [],
   "source": [
    "feature_range = np.array([[-100,100], [-100,100]])"
   ]
  },
  {
   "cell_type": "code",
   "execution_count": 3,
   "metadata": {},
   "outputs": [
    {
     "data": {
      "text/plain": [
       "array([[-100,  100],\n",
       "       [-100,  100]])"
      ]
     },
     "execution_count": 3,
     "metadata": {},
     "output_type": "execute_result"
    }
   ],
   "source": [
    "feature_range"
   ]
  },
  {
   "cell_type": "code",
   "execution_count": 18,
   "metadata": {},
   "outputs": [],
   "source": [
    "def populate(feature_range, count=1000):\n",
    "    population = []\n",
    "    \n",
    "    for i in range(count):\n",
    "        item = []\n",
    "        for feature in feature_range:\n",
    "            f_val = np.random.uniform(feature[0], feature[1])\n",
    "            item.append(f_val)\n",
    "        population.append(item)\n",
    "        \n",
    "    population = np.array(population)\n",
    "    return population"
   ]
  },
  {
   "cell_type": "code",
   "execution_count": 19,
   "metadata": {},
   "outputs": [],
   "source": [
    "population = populate(feature_range, 100)"
   ]
  },
  {
   "cell_type": "code",
   "execution_count": 20,
   "metadata": {},
   "outputs": [
    {
     "data": {
      "text/plain": [
       "(100, 2)"
      ]
     },
     "execution_count": 20,
     "metadata": {},
     "output_type": "execute_result"
    }
   ],
   "source": [
    "population.shape"
   ]
  },
  {
   "cell_type": "code",
   "execution_count": 21,
   "metadata": {},
   "outputs": [
    {
     "data": {
      "text/plain": [
       "<matplotlib.collections.PathCollection at 0x1d8245a9f98>"
      ]
     },
     "execution_count": 21,
     "metadata": {},
     "output_type": "execute_result"
    },
    {
     "data": {
      "image/png": "[encoded data removed]",
      "text/plain": [
       "<Figure size 432x288 with 1 Axes>"
      ]
     },
     "metadata": {
      "needs_background": "light"
     },
     "output_type": "display_data"
    }
   ],
   "source": [
    "plt.scatter(population[:, 0], population[:, 1])"
   ]
  },
  {
   "cell_type": "code",
   "execution_count": 25,
   "metadata": {},
   "outputs": [],
   "source": [
    "viruses = [(np.array([0.0, 0.0]), 1)]"
   ]
  },
  {
   "cell_type": "code",
   "execution_count": 31,
   "metadata": {},
   "outputs": [],
   "source": [
    "def fitness(population, viruses):\n",
    "    \n",
    "    fit = None\n",
    "    for virus in viruses:\n",
    "        v = np.sqrt(np.sum((population - virus[0]) ** 2, axis=1)) * virus[1]\n",
    "        \n",
    "        if fit == None:\n",
    "            fit = v\n",
    "        else:\n",
    "            fit = fit + v\n",
    "    return np.argsort(fit )"
   ]
  },
  {
   "cell_type": "code",
   "execution_count": 29,
   "metadata": {},
   "outputs": [],
   "source": [
    "np.array?"
   ]
  },
  {
   "cell_type": "code",
   "execution_count": 32,
   "metadata": {},
   "outputs": [
    {
     "data": {
      "text/plain": [
       "array([48, 65, 99, 42, 55, 85, 59,  4,  1, 36, 26, 94, 98, 44, 20,  9, 90,\n",
       "       62, 24, 45, 81, 84, 41, 66, 23, 15, 19, 32, 54, 16,  2, 12,  3, 46,\n",
       "       95, 67, 43, 61, 91, 79, 56, 21, 64, 76, 74, 33, 96, 27, 73, 77, 34,\n",
       "       57, 25, 13, 92, 60, 71, 75, 11, 72,  7, 80, 52, 18, 89,  6, 93, 58,\n",
       "       17, 82, 30, 35, 29, 50,  0, 40, 47, 69, 31, 68, 86, 37, 49, 63, 22,\n",
       "       87, 38, 10, 78, 53, 70, 14, 88, 97, 83, 28,  5, 51, 39,  8],\n",
       "      dtype=int64)"
      ]
     },
     "execution_count": 32,
     "metadata": {},
     "output_type": "execute_result"
    }
   ],
   "source": [
    "fitness(population, viruses)"
   ]
  },
  {
   "cell_type": "code",
   "execution_count": 52,
   "metadata": {},
   "outputs": [],
   "source": [
    "def select(population, virus, factor=2):\n",
    "    fit = fitness(population, virus)[:len(population)//factor]\n",
    "    return population[fit]"
   ]
  },
  {
   "cell_type": "code",
   "execution_count": 53,
   "metadata": {},
   "outputs": [
    {
     "data": {
      "text/plain": [
       "50"
      ]
     },
     "execution_count": 53,
     "metadata": {},
     "output_type": "execute_result"
    }
   ],
   "source": [
    "len(select(population, viruses))"
   ]
  },
  {
   "cell_type": "code",
   "execution_count": null,
   "metadata": {},
   "outputs": [],
   "source": []
  },
  {
   "cell_type": "code",
   "execution_count": 54,
   "metadata": {},
   "outputs": [],
   "source": [
    "new_pop = select(population, viruses)"
   ]
  },
  {
   "cell_type": "code",
   "execution_count": 55,
   "metadata": {},
   "outputs": [
    {
     "data": {
      "text/plain": [
       "array([[-10.26811628,  -2.30419106],\n",
       "       [ -9.99593239,   7.72212634],\n",
       "       [ -2.55252887,  15.92221236],\n",
       "       [-14.35599356,  11.62514835],\n",
       "       [-12.17782286,  14.96170048],\n",
       "       [-19.47141127,   1.50766862],\n",
       "       [ 12.19988972,  16.49500969],\n",
       "       [  5.6315521 ,  20.86622271],\n",
       "       [-15.32441009, -18.60279278],\n",
       "       [ 13.40433211,  20.17109968],\n",
       "       [ 11.40372227,  22.0496126 ],\n",
       "       [ -8.94153057, -23.62103793],\n",
       "       [-17.85750036,  22.89562676],\n",
       "       [ 28.21337816,  13.90160993],\n",
       "       [ 30.42404033, -12.00068924],\n",
       "       [  5.78312747,  34.68179166],\n",
       "       [ 36.28327694,   5.25941886],\n",
       "       [ 14.09519618, -37.52019409],\n",
       "       [ 10.72308944,  39.27963422],\n",
       "       [-22.21645933, -35.85482864],\n",
       "       [-15.12610336,  41.26400479],\n",
       "       [  6.96878566,  44.94559563],\n",
       "       [ 28.03092186,  38.46946127],\n",
       "       [ 42.9200226 ,  22.59265922],\n",
       "       [ 25.4790842 ,  41.85988196],\n",
       "       [-46.51976288,  25.92202563],\n",
       "       [-52.97085822,   7.14895074],\n",
       "       [-52.48063941, -19.21301016],\n",
       "       [-40.7059341 ,  39.56910059],\n",
       "       [-37.56715612, -43.23441788],\n",
       "       [-39.61545769, -41.92409969],\n",
       "       [  0.46704086,  58.72828696],\n",
       "       [ -4.4751371 ,  59.04328526],\n",
       "       [-59.22581217,   5.00203915],\n",
       "       [ 11.55477762, -58.66035399],\n",
       "       [ 40.45045041,  46.52976276],\n",
       "       [ 37.78172898,  51.78824621],\n",
       "       [-19.87972031, -61.35375084],\n",
       "       [-62.89756937,  18.99575129],\n",
       "       [ 63.46406235,  20.18280473],\n",
       "       [-68.96206662,  -2.4664973 ],\n",
       "       [ 49.95004767, -50.71867065],\n",
       "       [-25.34168598,  66.95208084],\n",
       "       [ 27.42601893, -66.23858993],\n",
       "       [-41.43268554,  58.57096886],\n",
       "       [-52.29715585, -50.90842972],\n",
       "       [ 74.68414279, -12.60356624],\n",
       "       [ 77.9522951 ,   8.17748053],\n",
       "       [-59.53290687, -51.08514131],\n",
       "       [ 66.12305806,  44.64721964]])"
      ]
     },
     "execution_count": 55,
     "metadata": {},
     "output_type": "execute_result"
    }
   ],
   "source": [
    "new_pop"
   ]
  },
  {
   "cell_type": "code",
   "execution_count": 56,
   "metadata": {},
   "outputs": [
    {
     "data": {
      "image/png": "[encoded data removed]",
      "text/plain": [
       "<Figure size 432x288 with 1 Axes>"
      ]
     },
     "metadata": {
      "needs_background": "light"
     },
     "output_type": "display_data"
    }
   ],
   "source": [
    "plt.scatter(population[:, 0], population[:, 1])\n",
    "plt.scatter(new_pop[:, 0], new_pop[:, 1])\n",
    "for virus in viruses:\n",
    "    plt.scatter(virus[0][0], virus[0][1], s=120)"
   ]
  },
  {
   "cell_type": "code",
   "execution_count": 81,
   "metadata": {},
   "outputs": [],
   "source": [
    "def mutate(item):\n",
    "    item + np.random.uniform(-4, 4, len(item))\n",
    "\n",
    "\n",
    "\n",
    "def regen(seed, target=100):\n",
    "    population = []\n",
    "    for i in range(target):\n",
    "        item = np.zeros\n",
    "        parents = random.choices(seed, k=2)\n",
    "        item = np.array([parents[0][0], parents[1][1]])\n",
    "        population.append(item)\n",
    "    \n",
    "    return np.array(population)\n",
    "#     parents = np.random.choice(seed.shape[0], 2)\n",
    "#     print(parents)\n",
    "#     print(seed[parents])\n",
    "    "
   ]
  },
  {
   "cell_type": "code",
   "execution_count": 77,
   "metadata": {},
   "outputs": [
    {
     "name": "stdout",
     "output_type": "stream",
     "text": [
      "[17  6]\n",
      "[[ 14.09519618 -37.52019409]\n",
      " [ 12.19988972  16.49500969]]\n"
     ]
    }
   ],
   "source": [
    "regen(new_pop)"
   ]
  },
  {
   "cell_type": "code",
   "execution_count": null,
   "metadata": {},
   "outputs": [],
   "source": []
  }
 ],
 "metadata": {
  "kernelspec": {
   "display_name": "Python 3",
   "language": "python",
   "name": "python3"
  },
  "language_info": {
   "codemirror_mode": {
    "name": "ipython",
    "version": 3
   },
   "file_extension": ".py",
   "mimetype": "text/x-python",
   "name": "python",
   "nbconvert_exporter": "python",
   "pygments_lexer": "ipython3",
   "version": "3.7.3"
  }
 },
 "nbformat": 4,
 "nbformat_minor": 2
}
